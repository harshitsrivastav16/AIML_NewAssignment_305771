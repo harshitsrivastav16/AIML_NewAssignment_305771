{
 "cells": [
  {
   "cell_type": "code",
   "execution_count": 2,
   "metadata": {},
   "outputs": [
    {
     "name": "stdout",
     "output_type": "stream",
     "text": [
      "Rose is beautiful.\n",
      " - Positive Review\n",
      "\n",
      "Place is nasty to stay.\n",
      "  - Negateive Review\n",
      "\n",
      "This is the beauty of this technique.\n",
      " - Positive Review\n",
      "\n",
      "Concept is explained beautifully in this book.\n",
      " - Positive Review\n",
      "\n",
      "He annoyed me.\n",
      "  - Negateive Review\n",
      "\n",
      "Its the supreme place to stay.\n",
      " - Positive Review\n",
      "\n",
      "I hate this place.\n",
      "  - Negateive Review\n",
      "\n",
      "Dont annoy the customer.\n",
      "  - Negateive Review\n",
      "\n",
      "He has given nasty comments about his stay.\n",
      "  - Negateive Review\n",
      "\n",
      "Dessert is awesome.\n",
      " - Positive Review\n",
      "\n",
      "Your gift is wonderful. - Positive Review\n",
      "\n"
     ]
    }
   ],
   "source": [
    "import nltk\n",
    "from nltk.tokenize import word_tokenize\n",
    "sent_dict={}\n",
    "\n",
    "for line in open('NLPdataEx5dict.txt'):\n",
    "    word,score=line.split(',')\n",
    "    sent_dict[word] = int(score)\n",
    "\n",
    "for data in open('NLPdataEx5data_senti_analyze.txt'):\n",
    "    words = data.lower().split()\n",
    "    words = [word.replace(\".\",\"\") for word in words]\n",
    "    indicator = (sum(sent_dict.get(word,0) for word in words))\n",
    "    if (indicator==1):\n",
    "        print(data,'- Positive Review\\n')\n",
    "    if (indicator==-1):\n",
    "        print(data,' - Negateive Review\\n') "
   ]
  },
  {
   "cell_type": "code",
   "execution_count": null,
   "metadata": {},
   "outputs": [],
   "source": []
  },
  {
   "cell_type": "code",
   "execution_count": null,
   "metadata": {},
   "outputs": [],
   "source": []
  }
 ],
 "metadata": {
  "kernelspec": {
   "display_name": "Python 3",
   "language": "python",
   "name": "python3"
  },
  "language_info": {
   "codemirror_mode": {
    "name": "ipython",
    "version": 3
   },
   "file_extension": ".py",
   "mimetype": "text/x-python",
   "name": "python",
   "nbconvert_exporter": "python",
   "pygments_lexer": "ipython3",
   "version": "3.5.4"
  }
 },
 "nbformat": 4,
 "nbformat_minor": 2
}
