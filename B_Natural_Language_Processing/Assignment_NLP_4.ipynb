{
 "cells": [
  {
   "cell_type": "code",
   "execution_count": 1,
   "metadata": {},
   "outputs": [
    {
     "name": "stdout",
     "output_type": "stream",
     "text": [
      "\n",
      "Removing stop words - \n",
      "\n",
      "['Hello', ',', '?', 'Weather', 'awesome', '.', 'raining', '.', 'Hello', 'Mr.', 'Raja', ',', '?', 'Weather', 'awesome', '.', 'raining', '.', 'Hello', 'Mr.', 'Raja', ',', '.', 'Weather', 'bad', '.', 'heavily', 'raining', '.', 'NLP', 'great', 'technique', '.', 'nice', 'learn', 'technique', '.', 'AI', 'making', 'difference', 'world', '.', 'would', 'helpful', 'betterment', 'human', 'life', '.', 'need', 'make', 'advantage', '.', 'Hello', ',', '?', 'Weather', 'awesome', '.', 'Its', 'raining', '.', 'Hello', 'Mr.', 'Raja', ',', '?', 'Weather', 'awesome', '.', 'Its', 'raining', '.', 'Hello', 'Mr.', 'Raja', ',', '.', 'Weather', 'bad', '.', 'Its', 'heavily', 'raining', '.', 'NLP', 'great', 'technique', '.', 'It', 'nice', 'learn', 'technique', '.', 'AI', 'making', 'difference', 'world', '.', 'It', 'would', 'helpful', 'betterment', 'human', 'life', '.', 'We', 'need', 'make', 'advantage', '.']\n",
      "\n",
      "Depicting the difference between Stemming & Lemmatization\n",
      "\n",
      "Stemming\n",
      "hello there, how are you? weather is awesome. its raining here now.\n",
      "hello mr. raja, how are you? weather is awesome. its raining here now.\n",
      "hello mr. raja, how are you. weather is bad. its heavily raining here now.\n",
      "nlp is great technique. it is nice to learn this technique.\n",
      "ai is making difference in this world now.  it would be helpful for betterment of human life. we need to make advantage of that.\n",
      "\n",
      "Lemmatization\n",
      "Hello there, how are you? Weather is awesome. Its raining here now.\n",
      "Hello Mr. Raja, how are you? Weather is awesome. Its raining here now.\n",
      "Hello Mr. Raja, how are you. Weather is bad. Its heavily raining here now.\n",
      "NLP is great technique. It is nice to learn this technique.\n",
      "AI is making difference in this world now.  It would be helpful for betterment of human life. We need to make advantage of that.\n",
      "\n"
     ]
    }
   ],
   "source": [
    "import pandas as pd\n",
    "import nltk\n",
    "from nltk import stem\n",
    "from nltk.stem import SnowballStemmer\n",
    "from nltk.tokenize import sent_tokenize, word_tokenize\n",
    "from nltk.corpus import stopwords\n",
    "stopwords.words('english')\n",
    "stopwords = nltk.corpus.stopwords.words('english')\n",
    "content = []\n",
    "\n",
    "print('\\nRemoving stop words - \\n')\n",
    "with open ('data.txt') as fin:\n",
    "    data = fin.read()\n",
    "    data1 = word_tokenize(data)\n",
    "    content = [w for w in data1 if w.lower() not in stopwords]\n",
    "\n",
    " \n",
    "for w in data1:\n",
    "    if w not in stopwords:\n",
    "        content.append(w)\n",
    "print(content)\n",
    "        \n",
    "print('\\nDepicting the difference between Stemming & Lemmatization\\n')\n",
    "\n",
    "ps = SnowballStemmer('english')\n",
    "wn_lemat = stem.WordNetLemmatizer()\n",
    "with open ('data.txt') as fin:\n",
    "    data = fin.read()\n",
    "    print(\"Stemming\")\n",
    "    print(ps.stem(data))\n",
    "    print(\"Lemmatization\")\n",
    "    print(wn_lemat.lemmatize(data))"
   ]
  },
  {
   "cell_type": "code",
   "execution_count": null,
   "metadata": {},
   "outputs": [],
   "source": []
  }
 ],
 "metadata": {
  "kernelspec": {
   "display_name": "Python 3",
   "language": "python",
   "name": "python3"
  },
  "language_info": {
   "codemirror_mode": {
    "name": "ipython",
    "version": 3
   },
   "file_extension": ".py",
   "mimetype": "text/x-python",
   "name": "python",
   "nbconvert_exporter": "python",
   "pygments_lexer": "ipython3",
   "version": "3.5.4"
  }
 },
 "nbformat": 4,
 "nbformat_minor": 2
}
