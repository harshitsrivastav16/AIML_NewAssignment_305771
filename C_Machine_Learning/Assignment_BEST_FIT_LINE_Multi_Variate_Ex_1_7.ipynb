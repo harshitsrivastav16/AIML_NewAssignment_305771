{
 "cells": [
  {
   "cell_type": "code",
   "execution_count": 1,
   "metadata": {},
   "outputs": [],
   "source": [
    "import pandas as pd\n",
    "import matplotlib.pyplot as plt\n",
    "import numpy as np\n",
    "%matplotlib inline"
   ]
  },
  {
   "cell_type": "code",
   "execution_count": 2,
   "metadata": {},
   "outputs": [
    {
     "data": {
      "text/html": [
       "<div>\n",
       "<style>\n",
       "    .dataframe thead tr:only-child th {\n",
       "        text-align: right;\n",
       "    }\n",
       "\n",
       "    .dataframe thead th {\n",
       "        text-align: left;\n",
       "    }\n",
       "\n",
       "    .dataframe tbody tr th {\n",
       "        vertical-align: top;\n",
       "    }\n",
       "</style>\n",
       "<table border=\"1\" class=\"dataframe\">\n",
       "  <thead>\n",
       "    <tr style=\"text-align: right;\">\n",
       "      <th></th>\n",
       "      <th>MPG</th>\n",
       "      <th>Cylinders</th>\n",
       "      <th>Displacement</th>\n",
       "      <th>Horsepower</th>\n",
       "      <th>Weight</th>\n",
       "      <th>Acceleration</th>\n",
       "      <th>Model_year</th>\n",
       "      <th>Origin</th>\n",
       "      <th>Car_Name</th>\n",
       "    </tr>\n",
       "  </thead>\n",
       "  <tbody>\n",
       "    <tr>\n",
       "      <th>0</th>\n",
       "      <td>18.0</td>\n",
       "      <td>8</td>\n",
       "      <td>307.0</td>\n",
       "      <td>130</td>\n",
       "      <td>3504</td>\n",
       "      <td>12.0</td>\n",
       "      <td>70</td>\n",
       "      <td>1</td>\n",
       "      <td>chevrolet chevelle malibu</td>\n",
       "    </tr>\n",
       "    <tr>\n",
       "      <th>1</th>\n",
       "      <td>15.0</td>\n",
       "      <td>8</td>\n",
       "      <td>350.0</td>\n",
       "      <td>165</td>\n",
       "      <td>3693</td>\n",
       "      <td>11.5</td>\n",
       "      <td>70</td>\n",
       "      <td>1</td>\n",
       "      <td>buick skylark 320</td>\n",
       "    </tr>\n",
       "    <tr>\n",
       "      <th>2</th>\n",
       "      <td>18.0</td>\n",
       "      <td>8</td>\n",
       "      <td>318.0</td>\n",
       "      <td>150</td>\n",
       "      <td>3436</td>\n",
       "      <td>11.0</td>\n",
       "      <td>70</td>\n",
       "      <td>1</td>\n",
       "      <td>plymouth satellite</td>\n",
       "    </tr>\n",
       "    <tr>\n",
       "      <th>3</th>\n",
       "      <td>16.0</td>\n",
       "      <td>8</td>\n",
       "      <td>304.0</td>\n",
       "      <td>150</td>\n",
       "      <td>3433</td>\n",
       "      <td>12.0</td>\n",
       "      <td>70</td>\n",
       "      <td>1</td>\n",
       "      <td>amc rebel sst</td>\n",
       "    </tr>\n",
       "    <tr>\n",
       "      <th>4</th>\n",
       "      <td>17.0</td>\n",
       "      <td>8</td>\n",
       "      <td>302.0</td>\n",
       "      <td>140</td>\n",
       "      <td>3449</td>\n",
       "      <td>10.5</td>\n",
       "      <td>70</td>\n",
       "      <td>1</td>\n",
       "      <td>ford torino</td>\n",
       "    </tr>\n",
       "  </tbody>\n",
       "</table>\n",
       "</div>"
      ],
      "text/plain": [
       "    MPG  Cylinders  Displacement  Horsepower  Weight  Acceleration  \\\n",
       "0  18.0          8         307.0         130    3504          12.0   \n",
       "1  15.0          8         350.0         165    3693          11.5   \n",
       "2  18.0          8         318.0         150    3436          11.0   \n",
       "3  16.0          8         304.0         150    3433          12.0   \n",
       "4  17.0          8         302.0         140    3449          10.5   \n",
       "\n",
       "   Model_year  Origin                   Car_Name  \n",
       "0          70       1  chevrolet chevelle malibu  \n",
       "1          70       1          buick skylark 320  \n",
       "2          70       1         plymouth satellite  \n",
       "3          70       1              amc rebel sst  \n",
       "4          70       1                ford torino  "
      ]
     },
     "execution_count": 2,
     "metadata": {},
     "output_type": "execute_result"
    }
   ],
   "source": [
    "df = pd.read_csv('CarMPG.csv',sep=',',index_col=None)\n",
    "df.head()"
   ]
  },
  {
   "cell_type": "code",
   "execution_count": 3,
   "metadata": {},
   "outputs": [],
   "source": [
    "model = pd.DataFrame(df, columns = ['MPG', 'Acceleration'])"
   ]
  },
  {
   "cell_type": "code",
   "execution_count": 4,
   "metadata": {},
   "outputs": [],
   "source": [
    "def compute_error_for_line_gn_points(c,m,points):\n",
    "        total_error = 0\n",
    "        for i in range(0,len(points)):\n",
    "            x = points[i,2]\n",
    "            y = points[i,1]\n",
    "            total_error += (y-(m*x + c))**2\n",
    "            \n",
    "        return total_error/float(len(points))"
   ]
  },
  {
   "cell_type": "code",
   "execution_count": 5,
   "metadata": {},
   "outputs": [],
   "source": [
    "def step_gradient(c_current,m_current,points,learningrate):\n",
    "    c_gradient = 0\n",
    "    m_gradient = 0\n",
    "    n = float(len(points))\n",
    "    for i in range(0,len(points)):\n",
    "        x = points[i,2]\n",
    "        y = points[i,1]\n",
    "        c_gradient += -(2/n)*(y-((m_current*x) + c_current))\n",
    "        m_gradient += -(2/n)*x*(y-((m_current*x) + c_current))\n",
    "    \n",
    "    new_c = c_current - (learningrate*c_gradient)\n",
    "    new_m = m_current - (learningrate*m_gradient)\n",
    "    return(new_c,new_m)"
   ]
  },
  {
   "cell_type": "code",
   "execution_count": 6,
   "metadata": {},
   "outputs": [],
   "source": [
    "def gradient_descent_runner(points,starting_c,starting_m,learningrate,num_iterations):\n",
    "    c = starting_c \n",
    "    m = starting_m\n",
    "    for i in range(num_iterations):\n",
    "        c,m=step_gradient(c,m,points,learningrate)\n",
    "    return (c,m)"
   ]
  },
  {
   "cell_type": "code",
   "execution_count": 7,
   "metadata": {},
   "outputs": [],
   "source": [
    "points = model\n",
    "points = points.reset_index().values"
   ]
  },
  {
   "cell_type": "code",
   "execution_count": 8,
   "metadata": {},
   "outputs": [],
   "source": [
    "#initial hyper parameters\n",
    "learningrate = 0.0001\n",
    "initial_c = 0\n",
    "initial_m = 0\n",
    "num_iterations = 10000"
   ]
  },
  {
   "cell_type": "code",
   "execution_count": 9,
   "metadata": {},
   "outputs": [
    {
     "name": "stdout",
     "output_type": "stream",
     "text": [
      "Starting Gradient Descent at c = (0),m=0,error=613.8712562814071\n"
     ]
    }
   ],
   "source": [
    "print('Starting Gradient Descent at c = (0),m={1},error={2}'.format(initial_c,initial_m,compute_error_for_line_gn_points(initial_c,initial_m,points)))"
   ]
  },
  {
   "cell_type": "code",
   "execution_count": 10,
   "metadata": {},
   "outputs": [],
   "source": [
    "[c,m] = gradient_descent_runner(points,initial_c,initial_m,learningrate,num_iterations)"
   ]
  },
  {
   "cell_type": "code",
   "execution_count": 11,
   "metadata": {},
   "outputs": [
    {
     "name": "stdout",
     "output_type": "stream",
     "text": [
      "After 10000 iterations c = 0.37924815239954346, m = 1.477159018865183, error = 50.81173993539931\n"
     ]
    }
   ],
   "source": [
    "print(\"After {0} iterations c = {1}, m = {2}, error = {3}\".format(num_iterations,c,m,compute_error_for_line_gn_points(c,m,points)))"
   ]
  },
  {
   "cell_type": "code",
   "execution_count": 12,
   "metadata": {},
   "outputs": [
    {
     "data": {
      "text/plain": [
       "[<matplotlib.lines.Line2D at 0x2429dc42e80>]"
      ]
     },
     "execution_count": 12,
     "metadata": {},
     "output_type": "execute_result"
    },
    {
     "data": {
      "image/png": "[encoded data removed]",
      "text/plain": [
       "<matplotlib.figure.Figure at 0x2429d604358>"
      ]
     },
     "metadata": {},
     "output_type": "display_data"
    }
   ],
   "source": [
    "for i in range(0,len(points)):\n",
    "    x = points[i,2]\n",
    "    y = points[i,1]\n",
    "    plt.scatter(x,y,color='red')\n",
    "\n",
    "plt.plot(model.Acceleration,(1.4931509862180814*model.Acceleration + 0.122522331326687),color='black',linewidth=3)"
   ]
  },
  {
   "cell_type": "code",
   "execution_count": 13,
   "metadata": {},
   "outputs": [
    {
     "name": "stdout",
     "output_type": "stream",
     "text": [
      "50.8845836631\n",
      "Observation - As the Number of Iteration ranges increases from zero, Error decreases from 600 - approx to 50.88 And then the rate of change in error is very minimal. It almost becomes an constant as shown in graph.\n"
     ]
    },
    {
     "data": {
      "image/png": "[encoded data removed]",
      "text/plain": [
       "<matplotlib.figure.Figure at 0x2429dd126d8>"
      ]
     },
     "metadata": {},
     "output_type": "display_data"
    }
   ],
   "source": [
    "#Impact of Number of Iterations on Error\n",
    "learningrate = 0.0001\n",
    "initial_c = 0\n",
    "initial_m = 0\n",
    "num_iterations = 0\n",
    "\n",
    "for num_iterations in range (0,1100,20):\n",
    "    [c,m] = gradient_descent_runner(points,initial_c,initial_m,learningrate,num_iterations)\n",
    "    plt.scatter(num_iterations,compute_error_for_line_gn_points(c,m,points),color='black',linewidth=.01)\n",
    "\n",
    "print(compute_error_for_line_gn_points(c,m,points))\n",
    "plt.title('Impact of Number of Iterations on Error - Number of Iteration ranges from 0 to 1100, keeping learning rate constant as 0.0001', fontsize=14)\n",
    "plt.xlabel('Number of Iterations', fontsize=12)\n",
    "plt.ylabel('Error', fontsize=12)\n",
    "print('Observation - As the Number of Iteration ranges increases from zero, Error decreases from 600 - approx to 50.88 And then the rate of change in error is very minimal. It almost becomes an constant as shown in graph.')"
   ]
  },
  {
   "cell_type": "code",
   "execution_count": 14,
   "metadata": {},
   "outputs": [
    {
     "name": "stdout",
     "output_type": "stream",
     "text": [
      "Observation - As the Learning rate decreases from 0.01, Error increases from 50 approx to 600.\n"
     ]
    },
    {
     "data": {
      "image/png": "[encoded data removed]",
      "text/plain": [
       "<matplotlib.figure.Figure at 0x2429d5aee80>"
      ]
     },
     "metadata": {},
     "output_type": "display_data"
    }
   ],
   "source": [
    "#Impact of learning rate on Error\n",
    "learningrate = 0.01\n",
    "initial_c = 0\n",
    "initial_m = 0\n",
    "num_iterations = 1000\n",
    "\n",
    "for i in range(1,6):\n",
    "    learningrate /= 10;\n",
    "    [c,m] = gradient_descent_runner(points,initial_c,initial_m,learningrate,num_iterations)\n",
    "    #print(learningrate,compute_error_for_line_gn_points(c,m,points))\n",
    "    plt.scatter(i,compute_error_for_line_gn_points(c,m,points))\n",
    "    \n",
    "plt.title('Impact of learning rate on Error - Learning rate ranges from 0.01 to 0.01/100000, keeping Number of Iterations as constant as 1000', fontsize=14)\n",
    "plt.xlabel('Learning Rate', fontsize=12)\n",
    "plt.ylabel('Error', fontsize=12)\n",
    "print('Observation - As the Learning rate decreases from 0.01, Error increases from 50 approx to 600.')"
   ]
  },
  {
   "cell_type": "code",
   "execution_count": null,
   "metadata": {},
   "outputs": [],
   "source": []
  }
 ],
 "metadata": {
  "kernelspec": {
   "display_name": "Python 3",
   "language": "python",
   "name": "python3"
  },
  "language_info": {
   "codemirror_mode": {
    "name": "ipython",
    "version": 3
   },
   "file_extension": ".py",
   "mimetype": "text/x-python",
   "name": "python",
   "nbconvert_exporter": "python",
   "pygments_lexer": "ipython3",
   "version": "3.5.4"
  }
 },
 "nbformat": 4,
 "nbformat_minor": 2
}
